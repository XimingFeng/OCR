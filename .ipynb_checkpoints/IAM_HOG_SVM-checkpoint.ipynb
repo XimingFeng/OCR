{
 "cells": [
  {
   "cell_type": "code",
   "execution_count": 1,
   "metadata": {},
   "outputs": [],
   "source": [
    "from Shared_Tool.Image_Load_IAM import IAM_Img_Handler\n",
    "from OCR_classifiers.HOG_SVM.HOG_SVM import Classifier_HOG_SVM"
   ]
  },
  {
   "cell_type": "markdown",
   "metadata": {},
   "source": [
    "# Test set (10 pictures)"
   ]
  },
  {
   "cell_type": "code",
   "execution_count": 2,
   "metadata": {},
   "outputs": [
    {
     "name": "stderr",
     "output_type": "stream",
     "text": [
      "D:\\Projects\\OCR\\Shared_Tool\\Image_Load_IAM.py:29: ConversionWarning: Some errors were detected !\n",
      "    Line #23 (got 10 columns instead of 9)\n",
      "    Line #48 (got 10 columns instead of 9)\n",
      "    Line #75 (got 10 columns instead of 9)\n",
      "    Line #100 (got 10 columns instead of 9)\n",
      "    Line #118 (got 10 columns instead of 9)\n",
      "    Line #136 (got 10 columns instead of 9)\n",
      "    Line #199 (got 10 columns instead of 9)\n",
      "    Line #218 (got 10 columns instead of 9)\n",
      "    Line #279 (got 10 columns instead of 9)\n",
      "    Line #297 (got 10 columns instead of 9)\n",
      "    Line #365 (got 8 columns instead of 9)\n",
      "    Line #493 (got 8 columns instead of 9)\n",
      "    Line #1427 (got 10 columns instead of 9)\n",
      "    Line #1512 (got 10 columns instead of 9)\n",
      "    Line #1598 (got 10 columns instead of 9)\n",
      "    Line #1930 (got 8 columns instead of 9)\n",
      "    Line #2324 (got 8 columns instead of 9)\n",
      "    Line #2720 (got 8 columns instead of 9)\n",
      "    Line #3028 (got 8 columns instead of 9)\n",
      "    Line #3331 (got 10 columns instead of 9)\n",
      "    Line #3395 (got 10 columns instead of 9)\n",
      "    Line #4271 (got 8 columns instead of 9)\n",
      "    Line #4455 (got 10 columns instead of 9)\n",
      "    Line #4539 (got 10 columns instead of 9)\n",
      "    Line #7002 (got 8 columns instead of 9)\n",
      "    Line #7506 (got 8 columns instead of 9)\n",
      "    Line #8145 (got 8 columns instead of 9)\n",
      "    Line #9409 (got 8 columns instead of 9)\n",
      "    Line #11055 (got 8 columns instead of 9)\n",
      "    Line #11079 (got 8 columns instead of 9)\n",
      "    Line #11519 (got 8 columns instead of 9)\n",
      "    Line #12337 (got 8 columns instead of 9)\n",
      "    Line #12387 (got 8 columns instead of 9)\n",
      "    Line #12429 (got 8 columns instead of 9)\n",
      "    Line #12528 (got 8 columns instead of 9)\n",
      "    Line #13361 (got 8 columns instead of 9)\n",
      "    Line #13503 (got 8 columns instead of 9)\n",
      "    Line #13723 (got 8 columns instead of 9)\n",
      "    Line #13841 (got 8 columns instead of 9)\n",
      "    Line #14207 (got 8 columns instead of 9)\n",
      "    Line #14279 (got 8 columns instead of 9)\n",
      "    Line #15002 (got 8 columns instead of 9)\n",
      "    Line #15404 (got 8 columns instead of 9)\n",
      "    Line #16467 (got 8 columns instead of 9)\n",
      "    Line #17393 (got 8 columns instead of 9)\n",
      "    Line #17415 (got 8 columns instead of 9)\n",
      "    Line #17691 (got 8 columns instead of 9)\n",
      "    Line #19519 (got 8 columns instead of 9)\n",
      "    Line #19726 (got 8 columns instead of 9)\n",
      "    Line #19882 (got 8 columns instead of 9)\n",
      "    Line #20227 (got 8 columns instead of 9)\n",
      "    Line #21254 (got 8 columns instead of 9)\n",
      "    Line #21355 (got 8 columns instead of 9)\n",
      "    Line #21516 (got 8 columns instead of 9)\n",
      "    Line #21657 (got 8 columns instead of 9)\n",
      "    Line #28927 (got 11 columns instead of 9)\n",
      "    Line #29121 (got 11 columns instead of 9)\n",
      "    Line #29966 (got 11 columns instead of 9)\n",
      "    Line #30010 (got 10 columns instead of 9)\n",
      "    Line #30029 (got 11 columns instead of 9)\n",
      "    Line #30071 (got 11 columns instead of 9)\n",
      "    Line #30092 (got 11 columns instead of 9)\n",
      "    Line #30137 (got 11 columns instead of 9)\n",
      "    Line #30170 (got 11 columns instead of 9)\n",
      "    Line #30215 (got 11 columns instead of 9)\n",
      "    Line #30254 (got 10 columns instead of 9)\n",
      "    Line #30296 (got 11 columns instead of 9)\n",
      "    Line #30305 (got 10 columns instead of 9)\n",
      "    Line #30355 (got 10 columns instead of 9)\n",
      "    Line #30439 (got 10 columns instead of 9)\n",
      "    Line #30456 (got 11 columns instead of 9)\n",
      "    Line #30521 (got 11 columns instead of 9)\n",
      "    Line #30580 (got 10 columns instead of 9)\n",
      "    Line #31754 (got 8 columns instead of 9)\n",
      "    Line #44785 (got 8 columns instead of 9)\n",
      "    Line #45030 (got 8 columns instead of 9)\n",
      "    Line #45185 (got 8 columns instead of 9)\n",
      "    Line #45284 (got 8 columns instead of 9)\n",
      "    Line #50809 (got 8 columns instead of 9)\n",
      "    Line #52015 (got 8 columns instead of 9)\n",
      "    Line #52147 (got 8 columns instead of 9)\n",
      "    Line #57172 (got 8 columns instead of 9)\n",
      "    Line #59703 (got 8 columns instead of 9)\n",
      "    Line #60467 (got 8 columns instead of 9)\n",
      "    Line #61155 (got 8 columns instead of 9)\n",
      "    Line #61534 (got 8 columns instead of 9)\n",
      "    Line #66406 (got 8 columns instead of 9)\n",
      "    Line #67538 (got 8 columns instead of 9)\n",
      "    Line #67679 (got 8 columns instead of 9)\n",
      "    Line #69399 (got 8 columns instead of 9)\n",
      "    Line #70445 (got 8 columns instead of 9)\n",
      "    Line #70510 (got 8 columns instead of 9)\n",
      "    Line #70624 (got 8 columns instead of 9)\n",
      "    Line #70881 (got 8 columns instead of 9)\n",
      "    Line #72190 (got 11 columns instead of 9)\n",
      "    Line #75565 (got 8 columns instead of 9)\n",
      "    Line #75919 (got 8 columns instead of 9)\n",
      "    Line #76136 (got 8 columns instead of 9)\n",
      "    Line #76274 (got 8 columns instead of 9)\n",
      "    Line #76547 (got 8 columns instead of 9)\n",
      "    Line #77752 (got 8 columns instead of 9)\n",
      "    Line #77861 (got 8 columns instead of 9)\n",
      "    Line #78010 (got 8 columns instead of 9)\n",
      "    Line #78022 (got 8 columns instead of 9)\n",
      "    Line #78040 (got 8 columns instead of 9)\n",
      "    Line #78095 (got 8 columns instead of 9)\n",
      "    Line #78120 (got 8 columns instead of 9)\n",
      "    Line #78150 (got 8 columns instead of 9)\n",
      "    Line #78156 (got 8 columns instead of 9)\n",
      "    Line #90594 (got 8 columns instead of 9)\n",
      "    Line #90595 (got 8 columns instead of 9)\n",
      "    Line #110130 (got 8 columns instead of 9)\n",
      "    Line #110135 (got 8 columns instead of 9)\n",
      "    Line #114987 (got 8 columns instead of 9)\n",
      "    Line #115276 (got 8 columns instead of 9)\n",
      "  invalid_raise=False)\n"
     ]
    },
    {
     "name": "stdout",
     "output_type": "stream",
     "text": [
      "Data loaded and deleted data with 'err' flag, the size of valid data is  96365\n"
     ]
    }
   ],
   "source": [
    "num_img = 10\n",
    "IAM_handler = IAM_Img_Handler()\n",
    "X, y = IAM_handler.load_imgs(num_img=num_img)"
   ]
  },
  {
   "cell_type": "code",
   "execution_count": 3,
   "metadata": {
    "scrolled": true
   },
   "outputs": [
    {
     "data": {
      "image/png": "[encoded data removed]",
      "text/plain": [
       "<matplotlib.figure.Figure at 0x1efdac26668>"
      ]
     },
     "metadata": {},
     "output_type": "display_data"
    }
   ],
   "source": [
    "IAM_handler.show_8_pic( )"
   ]
  },
  {
   "cell_type": "markdown",
   "metadata": {},
   "source": [
    "## Use 8 pictures as training"
   ]
  },
  {
   "cell_type": "code",
   "execution_count": 4,
   "metadata": {
    "scrolled": false
   },
   "outputs": [
    {
     "name": "stderr",
     "output_type": "stream",
     "text": [
      "D:\\Anaconda501\\lib\\site-packages\\skimage\\feature\\_hog.py:119: skimage_deprecation: Default value of `block_norm`==`L1` is deprecated and will be changed to `L2-Hys` in v0.15\n",
      "  'be changed to `L2-Hys` in v0.15', skimage_deprecation)\n"
     ]
    },
    {
     "name": "stdout",
     "output_type": "stream",
     "text": [
      "The shape of the training, validation and tesing data is  (8, 8100) (2, 8100) (2, 8100)\n"
     ]
    }
   ],
   "source": [
    "model_SVM = classifier_HOG_SVM(imgs=X, meta=y, num_train=8, num_val=2)"
   ]
  },
  {
   "cell_type": "code",
   "execution_count": 5,
   "metadata": {
    "collapsed": true
   },
   "outputs": [],
   "source": [
    "model_SVM.train()"
   ]
  },
  {
   "cell_type": "code",
   "execution_count": null,
   "metadata": {
    "collapsed": true
   },
   "outputs": [],
   "source": []
  },
  {
   "cell_type": "code",
   "execution_count": null,
   "metadata": {
    "collapsed": true
   },
   "outputs": [],
   "source": []
  }
 ],
 "metadata": {
  "kernelspec": {
   "display_name": "Python 3",
   "language": "python",
   "name": "python3"
  },
  "language_info": {
   "codemirror_mode": {
    "name": "ipython",
    "version": 3
   },
   "file_extension": ".py",
   "mimetype": "text/x-python",
   "name": "python",
   "nbconvert_exporter": "python",
   "pygments_lexer": "ipython3",
   "version": "3.6.3"
  }
 },
 "nbformat": 4,
 "nbformat_minor": 1
}
