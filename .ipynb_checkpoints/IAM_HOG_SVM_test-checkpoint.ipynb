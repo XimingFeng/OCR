{
 "cells": [
  {
   "cell_type": "code",
   "execution_count": 1,
   "metadata": {
    "collapsed": true
   },
   "outputs": [],
   "source": [
    "from Shared_Tool.Image_Load_IAM import IAM_Img_Handler\n",
    "from OCR_classifiers.HOG_SVM.HOG_SVM import Classifier_HOG_SVM\n",
    "import numpy as np"
   ]
  },
  {
   "cell_type": "markdown",
   "metadata": {},
   "source": [
    "# Test set (10 pictures)"
   ]
  },
  {
   "cell_type": "code",
   "execution_count": 2,
   "metadata": {},
   "outputs": [
    {
     "name": "stderr",
     "output_type": "stream",
     "text": [
      "D:\\Projects\\OCR\\Shared_Tool\\Image_Load_IAM.py:29: ConversionWarning: Some errors were detected !\n",
      "    Line #23 (got 10 columns instead of 9)\n",
      "    Line #48 (got 10 columns instead of 9)\n",
      "    Line #75 (got 10 columns instead of 9)\n",
      "    Line #100 (got 10 columns instead of 9)\n",
      "    Line #118 (got 10 columns instead of 9)\n",
      "    Line #136 (got 10 columns instead of 9)\n",
      "    Line #199 (got 10 columns instead of 9)\n",
      "    Line #218 (got 10 columns instead of 9)\n",
      "    Line #279 (got 10 columns instead of 9)\n",
      "    Line #297 (got 10 columns instead of 9)\n",
      "    Line #365 (got 8 columns instead of 9)\n",
      "    Line #493 (got 8 columns instead of 9)\n",
      "    Line #1427 (got 10 columns instead of 9)\n",
      "    Line #1512 (got 10 columns instead of 9)\n",
      "    Line #1598 (got 10 columns instead of 9)\n",
      "    Line #1930 (got 8 columns instead of 9)\n",
      "    Line #2324 (got 8 columns instead of 9)\n",
      "    Line #2720 (got 8 columns instead of 9)\n",
      "    Line #3028 (got 8 columns instead of 9)\n",
      "    Line #3331 (got 10 columns instead of 9)\n",
      "    Line #3395 (got 10 columns instead of 9)\n",
      "    Line #4271 (got 8 columns instead of 9)\n",
      "    Line #4455 (got 10 columns instead of 9)\n",
      "    Line #4539 (got 10 columns instead of 9)\n",
      "    Line #7002 (got 8 columns instead of 9)\n",
      "    Line #7506 (got 8 columns instead of 9)\n",
      "    Line #8145 (got 8 columns instead of 9)\n",
      "    Line #9409 (got 8 columns instead of 9)\n",
      "    Line #11055 (got 8 columns instead of 9)\n",
      "    Line #11079 (got 8 columns instead of 9)\n",
      "    Line #11519 (got 8 columns instead of 9)\n",
      "    Line #12337 (got 8 columns instead of 9)\n",
      "    Line #12387 (got 8 columns instead of 9)\n",
      "    Line #12429 (got 8 columns instead of 9)\n",
      "    Line #12528 (got 8 columns instead of 9)\n",
      "    Line #13361 (got 8 columns instead of 9)\n",
      "    Line #13503 (got 8 columns instead of 9)\n",
      "    Line #13723 (got 8 columns instead of 9)\n",
      "    Line #13841 (got 8 columns instead of 9)\n",
      "    Line #14207 (got 8 columns instead of 9)\n",
      "    Line #14279 (got 8 columns instead of 9)\n",
      "    Line #15002 (got 8 columns instead of 9)\n",
      "    Line #15404 (got 8 columns instead of 9)\n",
      "    Line #16467 (got 8 columns instead of 9)\n",
      "    Line #17393 (got 8 columns instead of 9)\n",
      "    Line #17415 (got 8 columns instead of 9)\n",
      "    Line #17691 (got 8 columns instead of 9)\n",
      "    Line #19519 (got 8 columns instead of 9)\n",
      "    Line #19726 (got 8 columns instead of 9)\n",
      "    Line #19882 (got 8 columns instead of 9)\n",
      "    Line #20227 (got 8 columns instead of 9)\n",
      "    Line #21254 (got 8 columns instead of 9)\n",
      "    Line #21355 (got 8 columns instead of 9)\n",
      "    Line #21516 (got 8 columns instead of 9)\n",
      "    Line #21657 (got 8 columns instead of 9)\n",
      "    Line #28927 (got 11 columns instead of 9)\n",
      "    Line #29121 (got 11 columns instead of 9)\n",
      "    Line #29966 (got 11 columns instead of 9)\n",
      "    Line #30010 (got 10 columns instead of 9)\n",
      "    Line #30029 (got 11 columns instead of 9)\n",
      "    Line #30071 (got 11 columns instead of 9)\n",
      "    Line #30092 (got 11 columns instead of 9)\n",
      "    Line #30137 (got 11 columns instead of 9)\n",
      "    Line #30170 (got 11 columns instead of 9)\n",
      "    Line #30215 (got 11 columns instead of 9)\n",
      "    Line #30254 (got 10 columns instead of 9)\n",
      "    Line #30296 (got 11 columns instead of 9)\n",
      "    Line #30305 (got 10 columns instead of 9)\n",
      "    Line #30355 (got 10 columns instead of 9)\n",
      "    Line #30439 (got 10 columns instead of 9)\n",
      "    Line #30456 (got 11 columns instead of 9)\n",
      "    Line #30521 (got 11 columns instead of 9)\n",
      "    Line #30580 (got 10 columns instead of 9)\n",
      "    Line #31754 (got 8 columns instead of 9)\n",
      "    Line #44785 (got 8 columns instead of 9)\n",
      "    Line #45030 (got 8 columns instead of 9)\n",
      "    Line #45185 (got 8 columns instead of 9)\n",
      "    Line #45284 (got 8 columns instead of 9)\n",
      "    Line #50809 (got 8 columns instead of 9)\n",
      "    Line #52015 (got 8 columns instead of 9)\n",
      "    Line #52147 (got 8 columns instead of 9)\n",
      "    Line #57172 (got 8 columns instead of 9)\n",
      "    Line #59703 (got 8 columns instead of 9)\n",
      "    Line #60467 (got 8 columns instead of 9)\n",
      "    Line #61155 (got 8 columns instead of 9)\n",
      "    Line #61534 (got 8 columns instead of 9)\n",
      "    Line #66406 (got 8 columns instead of 9)\n",
      "    Line #67538 (got 8 columns instead of 9)\n",
      "    Line #67679 (got 8 columns instead of 9)\n",
      "    Line #69399 (got 8 columns instead of 9)\n",
      "    Line #70445 (got 8 columns instead of 9)\n",
      "    Line #70510 (got 8 columns instead of 9)\n",
      "    Line #70624 (got 8 columns instead of 9)\n",
      "    Line #70881 (got 8 columns instead of 9)\n",
      "    Line #72190 (got 11 columns instead of 9)\n",
      "    Line #75565 (got 8 columns instead of 9)\n",
      "    Line #75919 (got 8 columns instead of 9)\n",
      "    Line #76136 (got 8 columns instead of 9)\n",
      "    Line #76274 (got 8 columns instead of 9)\n",
      "    Line #76547 (got 8 columns instead of 9)\n",
      "    Line #77752 (got 8 columns instead of 9)\n",
      "    Line #77861 (got 8 columns instead of 9)\n",
      "    Line #78010 (got 8 columns instead of 9)\n",
      "    Line #78022 (got 8 columns instead of 9)\n",
      "    Line #78040 (got 8 columns instead of 9)\n",
      "    Line #78095 (got 8 columns instead of 9)\n",
      "    Line #78120 (got 8 columns instead of 9)\n",
      "    Line #78150 (got 8 columns instead of 9)\n",
      "    Line #78156 (got 8 columns instead of 9)\n",
      "    Line #90594 (got 8 columns instead of 9)\n",
      "    Line #90595 (got 8 columns instead of 9)\n",
      "    Line #110130 (got 8 columns instead of 9)\n",
      "    Line #110135 (got 8 columns instead of 9)\n",
      "    Line #114987 (got 8 columns instead of 9)\n",
      "    Line #115276 (got 8 columns instead of 9)\n",
      "  invalid_raise=False)\n"
     ]
    },
    {
     "name": "stdout",
     "output_type": "stream",
     "text": [
      "Data loaded and deleted data with 'err' flag, the size of valid data is  96365\n"
     ]
    }
   ],
   "source": [
    "num_img = 10\n",
    "IAM_handler = IAM_Img_Handler()\n",
    "X, y = IAM_handler.load_imgs(num_img=num_img)"
   ]
  },
  {
   "cell_type": "code",
   "execution_count": 3,
   "metadata": {
    "scrolled": true
   },
   "outputs": [
    {
     "data": {
      "image/png": "[encoded data removed]",
      "text/plain": [
       "<matplotlib.figure.Figure at 0x188eceb0b00>"
      ]
     },
     "metadata": {},
     "output_type": "display_data"
    }
   ],
   "source": [
    "IAM_handler.show_8_pic( )"
   ]
  },
  {
   "cell_type": "markdown",
   "metadata": {},
   "source": [
    "## Use 8 pictures as training"
   ]
  },
  {
   "cell_type": "code",
   "execution_count": 4,
   "metadata": {
    "scrolled": false
   },
   "outputs": [
    {
     "name": "stdout",
     "output_type": "stream",
     "text": [
      "0  images has been preprocessed\n",
      "Shape of gradient images is  (10, 256, 512)\n",
      "The shape of the training, validation and testing data is  (8, 756) (2, 756) (2, 756)\n",
      "It takes  0.18211865425109863  seconds to initiate this model\n"
     ]
    },
    {
     "name": "stderr",
     "output_type": "stream",
     "text": [
      "D:\\Anaconda501\\lib\\site-packages\\skimage\\feature\\_hog.py:119: skimage_deprecation: Default value of `block_norm`==`L1` is deprecated and will be changed to `L2-Hys` in v0.15\n",
      "  'be changed to `L2-Hys` in v0.15', skimage_deprecation)\n"
     ]
    }
   ],
   "source": [
    "model_SVM = Classifier_HOG_SVM(imgs=X, meta=y, num_train=8, num_val=2)"
   ]
  },
  {
   "cell_type": "markdown",
   "metadata": {},
   "source": [
    "## Show 3 random pictures (orignal and histogram) in one figure\n",
    "### It is not very clear on plot but very clear with cv2.imshow()"
   ]
  },
  {
   "cell_type": "code",
   "execution_count": 5,
   "metadata": {
    "scrolled": true
   },
   "outputs": [
    {
     "name": "stdout",
     "output_type": "stream",
     "text": [
      "We selected the following images [5 0 2]\n"
     ]
    },
    {
     "data": {
      "image/png": "[encoded data removed]",
      "text/plain": [
       "<matplotlib.figure.Figure at 0x188ef8fd630>"
      ]
     },
     "metadata": {},
     "output_type": "display_data"
    }
   ],
   "source": [
    "model_SVM.show_random_histogram()"
   ]
  },
  {
   "cell_type": "markdown",
   "metadata": {},
   "source": [
    "## Train the model with dummy data"
   ]
  },
  {
   "cell_type": "code",
   "execution_count": 6,
   "metadata": {},
   "outputs": [
    {
     "name": "stdout",
     "output_type": "stream",
     "text": [
      "It takes  0.0020112991333007812  seconds to train the model\n"
     ]
    }
   ],
   "source": [
    "model_SVM.train()"
   ]
  },
  {
   "cell_type": "markdown",
   "metadata": {},
   "source": [
    "### We find that the result is overfitted but this is what we want for now because we are using dummy data. "
   ]
  },
  {
   "cell_type": "code",
   "execution_count": 7,
   "metadata": {},
   "outputs": [
    {
     "name": "stdout",
     "output_type": "stream",
     "text": [
      "The label of training set is  [ 8.  3.  9.  4.  1.  7.  5.  4.]\n",
      "The predicted label of training set is  [ 8.  3.  9.  4.  1.  7.  5.  4.]\n"
     ]
    }
   ],
   "source": [
    "y = model_SVM.predict(model_SVM.X_train)\n",
    "print(\"The label of training set is \", model_SVM.y_train)\n",
    "print(\"The predicted label of training set is \", y)\n"
   ]
  },
  {
   "cell_type": "markdown",
   "metadata": {},
   "source": [
    "## Now let's try something more insteresting, we load 1000 images\n",
    "#### With 800 for training, 200 for validation and 200 for testing"
   ]
  },
  {
   "cell_type": "code",
   "execution_count": 2,
   "metadata": {},
   "outputs": [
    {
     "name": "stderr",
     "output_type": "stream",
     "text": [
      "D:\\Projects\\OCR\\Shared_Tool\\Image_Load_IAM.py:29: ConversionWarning: Some errors were detected !\n",
      "    Line #23 (got 10 columns instead of 9)\n",
      "    Line #48 (got 10 columns instead of 9)\n",
      "    Line #75 (got 10 columns instead of 9)\n",
      "    Line #100 (got 10 columns instead of 9)\n",
      "    Line #118 (got 10 columns instead of 9)\n",
      "    Line #136 (got 10 columns instead of 9)\n",
      "    Line #199 (got 10 columns instead of 9)\n",
      "    Line #218 (got 10 columns instead of 9)\n",
      "    Line #279 (got 10 columns instead of 9)\n",
      "    Line #297 (got 10 columns instead of 9)\n",
      "    Line #365 (got 8 columns instead of 9)\n",
      "    Line #493 (got 8 columns instead of 9)\n",
      "    Line #1427 (got 10 columns instead of 9)\n",
      "    Line #1512 (got 10 columns instead of 9)\n",
      "    Line #1598 (got 10 columns instead of 9)\n",
      "    Line #1930 (got 8 columns instead of 9)\n",
      "    Line #2324 (got 8 columns instead of 9)\n",
      "    Line #2720 (got 8 columns instead of 9)\n",
      "    Line #3028 (got 8 columns instead of 9)\n",
      "    Line #3331 (got 10 columns instead of 9)\n",
      "    Line #3395 (got 10 columns instead of 9)\n",
      "    Line #4271 (got 8 columns instead of 9)\n",
      "    Line #4455 (got 10 columns instead of 9)\n",
      "    Line #4539 (got 10 columns instead of 9)\n",
      "    Line #7002 (got 8 columns instead of 9)\n",
      "    Line #7506 (got 8 columns instead of 9)\n",
      "    Line #8145 (got 8 columns instead of 9)\n",
      "    Line #9409 (got 8 columns instead of 9)\n",
      "    Line #11055 (got 8 columns instead of 9)\n",
      "    Line #11079 (got 8 columns instead of 9)\n",
      "    Line #11519 (got 8 columns instead of 9)\n",
      "    Line #12337 (got 8 columns instead of 9)\n",
      "    Line #12387 (got 8 columns instead of 9)\n",
      "    Line #12429 (got 8 columns instead of 9)\n",
      "    Line #12528 (got 8 columns instead of 9)\n",
      "    Line #13361 (got 8 columns instead of 9)\n",
      "    Line #13503 (got 8 columns instead of 9)\n",
      "    Line #13723 (got 8 columns instead of 9)\n",
      "    Line #13841 (got 8 columns instead of 9)\n",
      "    Line #14207 (got 8 columns instead of 9)\n",
      "    Line #14279 (got 8 columns instead of 9)\n",
      "    Line #15002 (got 8 columns instead of 9)\n",
      "    Line #15404 (got 8 columns instead of 9)\n",
      "    Line #16467 (got 8 columns instead of 9)\n",
      "    Line #17393 (got 8 columns instead of 9)\n",
      "    Line #17415 (got 8 columns instead of 9)\n",
      "    Line #17691 (got 8 columns instead of 9)\n",
      "    Line #19519 (got 8 columns instead of 9)\n",
      "    Line #19726 (got 8 columns instead of 9)\n",
      "    Line #19882 (got 8 columns instead of 9)\n",
      "    Line #20227 (got 8 columns instead of 9)\n",
      "    Line #21254 (got 8 columns instead of 9)\n",
      "    Line #21355 (got 8 columns instead of 9)\n",
      "    Line #21516 (got 8 columns instead of 9)\n",
      "    Line #21657 (got 8 columns instead of 9)\n",
      "    Line #28927 (got 11 columns instead of 9)\n",
      "    Line #29121 (got 11 columns instead of 9)\n",
      "    Line #29966 (got 11 columns instead of 9)\n",
      "    Line #30010 (got 10 columns instead of 9)\n",
      "    Line #30029 (got 11 columns instead of 9)\n",
      "    Line #30071 (got 11 columns instead of 9)\n",
      "    Line #30092 (got 11 columns instead of 9)\n",
      "    Line #30137 (got 11 columns instead of 9)\n",
      "    Line #30170 (got 11 columns instead of 9)\n",
      "    Line #30215 (got 11 columns instead of 9)\n",
      "    Line #30254 (got 10 columns instead of 9)\n",
      "    Line #30296 (got 11 columns instead of 9)\n",
      "    Line #30305 (got 10 columns instead of 9)\n",
      "    Line #30355 (got 10 columns instead of 9)\n",
      "    Line #30439 (got 10 columns instead of 9)\n",
      "    Line #30456 (got 11 columns instead of 9)\n",
      "    Line #30521 (got 11 columns instead of 9)\n",
      "    Line #30580 (got 10 columns instead of 9)\n",
      "    Line #31754 (got 8 columns instead of 9)\n",
      "    Line #44785 (got 8 columns instead of 9)\n",
      "    Line #45030 (got 8 columns instead of 9)\n",
      "    Line #45185 (got 8 columns instead of 9)\n",
      "    Line #45284 (got 8 columns instead of 9)\n",
      "    Line #50809 (got 8 columns instead of 9)\n",
      "    Line #52015 (got 8 columns instead of 9)\n",
      "    Line #52147 (got 8 columns instead of 9)\n",
      "    Line #57172 (got 8 columns instead of 9)\n",
      "    Line #59703 (got 8 columns instead of 9)\n",
      "    Line #60467 (got 8 columns instead of 9)\n",
      "    Line #61155 (got 8 columns instead of 9)\n",
      "    Line #61534 (got 8 columns instead of 9)\n",
      "    Line #66406 (got 8 columns instead of 9)\n",
      "    Line #67538 (got 8 columns instead of 9)\n",
      "    Line #67679 (got 8 columns instead of 9)\n",
      "    Line #69399 (got 8 columns instead of 9)\n",
      "    Line #70445 (got 8 columns instead of 9)\n",
      "    Line #70510 (got 8 columns instead of 9)\n",
      "    Line #70624 (got 8 columns instead of 9)\n",
      "    Line #70881 (got 8 columns instead of 9)\n",
      "    Line #72190 (got 11 columns instead of 9)\n",
      "    Line #75565 (got 8 columns instead of 9)\n",
      "    Line #75919 (got 8 columns instead of 9)\n",
      "    Line #76136 (got 8 columns instead of 9)\n",
      "    Line #76274 (got 8 columns instead of 9)\n",
      "    Line #76547 (got 8 columns instead of 9)\n",
      "    Line #77752 (got 8 columns instead of 9)\n",
      "    Line #77861 (got 8 columns instead of 9)\n",
      "    Line #78010 (got 8 columns instead of 9)\n",
      "    Line #78022 (got 8 columns instead of 9)\n",
      "    Line #78040 (got 8 columns instead of 9)\n",
      "    Line #78095 (got 8 columns instead of 9)\n",
      "    Line #78120 (got 8 columns instead of 9)\n",
      "    Line #78150 (got 8 columns instead of 9)\n",
      "    Line #78156 (got 8 columns instead of 9)\n",
      "    Line #90594 (got 8 columns instead of 9)\n",
      "    Line #90595 (got 8 columns instead of 9)\n",
      "    Line #110130 (got 8 columns instead of 9)\n",
      "    Line #110135 (got 8 columns instead of 9)\n",
      "    Line #114987 (got 8 columns instead of 9)\n",
      "    Line #115276 (got 8 columns instead of 9)\n",
      "  invalid_raise=False)\n"
     ]
    },
    {
     "name": "stdout",
     "output_type": "stream",
     "text": [
      "Data loaded and deleted data with 'err' flag, the size of valid data is  96365\n"
     ]
    }
   ],
   "source": [
    "num_img = 1000\n",
    "IAM_handler = IAM_Img_Handler()\n",
    "X, y = IAM_handler.load_imgs(num_img=num_img)"
   ]
  },
  {
   "cell_type": "code",
   "execution_count": 9,
   "metadata": {},
   "outputs": [
    {
     "name": "stderr",
     "output_type": "stream",
     "text": [
      "D:\\Anaconda501\\lib\\site-packages\\skimage\\feature\\_hog.py:119: skimage_deprecation: Default value of `block_norm`==`L1` is deprecated and will be changed to `L2-Hys` in v0.15\n",
      "  'be changed to `L2-Hys` in v0.15', skimage_deprecation)\n"
     ]
    },
    {
     "name": "stdout",
     "output_type": "stream",
     "text": [
      "0  images has been preprocessed\n",
      "100  images has been preprocessed\n",
      "200  images has been preprocessed\n",
      "300  images has been preprocessed\n",
      "400  images has been preprocessed\n",
      "500  images has been preprocessed\n",
      "600  images has been preprocessed\n",
      "700  images has been preprocessed\n",
      "800  images has been preprocessed\n",
      "900  images has been preprocessed\n",
      "Shape of gradient images is  (1000, 256, 512)\n",
      "The shape of the training, validation and testing data is  (800, 16740) (200, 16740) (200, 16740)\n",
      "It takes  97.69615697860718  seconds to initiate this model\n"
     ]
    }
   ],
   "source": [
    "model_SVM = Classifier_HOG_SVM(imgs=X, meta=y, num_train=800, num_val=200, pixel_per_cell=16)"
   ]
  },
  {
   "cell_type": "code",
   "execution_count": 11,
   "metadata": {},
   "outputs": [
    {
     "name": "stdout",
     "output_type": "stream",
     "text": [
      "It takes  51.01689839363098  seconds to train the model\n"
     ]
    }
   ],
   "source": [
    "model_SVM.train()"
   ]
  },
  {
   "cell_type": "markdown",
   "metadata": {},
   "source": [
    "## The model overfit the data again, 100%, we don't even need to do validation lol\n",
    "#### I think that's because the dimension is 16720 and number of data is 800. To seperate 800 point in 16720 dimension space is super easy"
   ]
  },
  {
   "cell_type": "code",
   "execution_count": 12,
   "metadata": {},
   "outputs": [
    {
     "name": "stdout",
     "output_type": "stream",
     "text": [
      "The accuracy of this prediction is  1.0\n"
     ]
    }
   ],
   "source": [
    "y_train_pred = model_SVM.predict(model_SVM.X_train)\n",
    "print(\"The accuracy of this prediction is \", np.sum(y_train_pred == model_SVM.y_train) / len(y_train_pred))"
   ]
  },
  {
   "cell_type": "markdown",
   "metadata": {},
   "source": [
    "## So what we want is to decrease the dimension of the input (histogram)\n",
    "#### It is still over fitting because, still, the dimension is too high too "
   ]
  },
  {
   "cell_type": "code",
   "execution_count": 13,
   "metadata": {},
   "outputs": [
    {
     "name": "stderr",
     "output_type": "stream",
     "text": [
      "D:\\Anaconda501\\lib\\site-packages\\skimage\\feature\\_hog.py:119: skimage_deprecation: Default value of `block_norm`==`L1` is deprecated and will be changed to `L2-Hys` in v0.15\n",
      "  'be changed to `L2-Hys` in v0.15', skimage_deprecation)\n"
     ]
    },
    {
     "name": "stdout",
     "output_type": "stream",
     "text": [
      "0  images has been preprocessed\n",
      "100  images has been preprocessed\n",
      "200  images has been preprocessed\n",
      "300  images has been preprocessed\n",
      "400  images has been preprocessed\n",
      "500  images has been preprocessed\n",
      "600  images has been preprocessed\n",
      "700  images has been preprocessed\n",
      "800  images has been preprocessed\n",
      "900  images has been preprocessed\n",
      "Shape of gradient images is  (1000, 256, 512)\n",
      "The shape of the training, validation and testing data is  (800, 3780) (200, 3780) (200, 3780)\n",
      "It takes  34.210590839385986  seconds to initiate this model\n",
      "It takes  10.389495134353638  seconds to train the model\n",
      "The accuracy of this prediction is  1.0\n"
     ]
    }
   ],
   "source": [
    "model_SVM = Classifier_HOG_SVM(imgs=X, meta=y, num_train=800, num_val=200, pixel_per_cell=32)\n",
    "model_SVM.train()\n",
    "y_train_pred = model_SVM.predict(model_SVM.X_train)\n",
    "print(\"The accuracy of this prediction is \", np.sum(y_train_pred == model_SVM.y_train) / len(y_train_pred))"
   ]
  },
  {
   "cell_type": "markdown",
   "metadata": {},
   "source": [
    "## Let's try it one more time (I promise, the last one!)"
   ]
  },
  {
   "cell_type": "code",
   "execution_count": 14,
   "metadata": {},
   "outputs": [
    {
     "name": "stderr",
     "output_type": "stream",
     "text": [
      "D:\\Anaconda501\\lib\\site-packages\\skimage\\feature\\_hog.py:119: skimage_deprecation: Default value of `block_norm`==`L1` is deprecated and will be changed to `L2-Hys` in v0.15\n",
      "  'be changed to `L2-Hys` in v0.15', skimage_deprecation)\n"
     ]
    },
    {
     "name": "stdout",
     "output_type": "stream",
     "text": [
      "0  images has been preprocessed\n",
      "100  images has been preprocessed\n",
      "200  images has been preprocessed\n",
      "300  images has been preprocessed\n",
      "400  images has been preprocessed\n",
      "500  images has been preprocessed\n",
      "600  images has been preprocessed\n",
      "700  images has been preprocessed\n",
      "800  images has been preprocessed\n",
      "900  images has been preprocessed\n",
      "Shape of gradient images is  (1000, 256, 512)\n",
      "The shape of the training, validation and testing data is  (800, 756) (200, 756) (200, 756)\n",
      "It takes  19.853270769119263  seconds to initiate this model\n",
      "It takes  1.7832837104797363  seconds to train the model\n",
      "The accuracy of this prediction is  0.905\n"
     ]
    }
   ],
   "source": [
    "model_SVM = Classifier_HOG_SVM(imgs=X, meta=y, num_train=800, num_val=200, pixel_per_cell=64)\n",
    "model_SVM.train()\n",
    "y_train_pred = model_SVM.predict(model_SVM.X_train)\n",
    "print(\"The accuracy of this prediction is \", np.sum(y_train_pred == model_SVM.y_train) / len(y_train_pred))"
   ]
  },
  {
   "cell_type": "markdown",
   "metadata": {},
   "source": [
    "#### Yaaaaaay! Finally not 100% any more! (That's what I always tell myself after exams)\n",
    "## Now let's try it on validation set and test set"
   ]
  },
  {
   "cell_type": "code",
   "execution_count": 15,
   "metadata": {},
   "outputs": [
    {
     "name": "stdout",
     "output_type": "stream",
     "text": [
      "The accuracy of this prediction on validation data set is  0.89\n",
      "The accuracy of this prediction on test data set is  0.29\n"
     ]
    }
   ],
   "source": [
    "y_val_pred = model_SVM.predict(model_SVM.X_val)\n",
    "print(\"The accuracy of this prediction on validation data set is \", np.sum(y_val_pred == model_SVM.y_val) / len(y_val_pred))\n",
    "y_test_pred = model_SVM.predict(model_SVM.X_test)\n",
    "print(\"The accuracy of this prediction on test data set is \", np.sum(y_test_pred == model_SVM.y_test) / len(y_test_pred))"
   ]
  },
  {
   "cell_type": "markdown",
   "metadata": {},
   "source": [
    "#### Attention please! This a typical overfitting case. We need to customize hyperparameters and  do cross-validation  \n",
    "## Let's try 128 pixels per cell"
   ]
  },
  {
   "cell_type": "code",
   "execution_count": 16,
   "metadata": {
    "scrolled": true
   },
   "outputs": [
    {
     "name": "stderr",
     "output_type": "stream",
     "text": [
      "D:\\Anaconda501\\lib\\site-packages\\skimage\\feature\\_hog.py:119: skimage_deprecation: Default value of `block_norm`==`L1` is deprecated and will be changed to `L2-Hys` in v0.15\n",
      "  'be changed to `L2-Hys` in v0.15', skimage_deprecation)\n"
     ]
    },
    {
     "name": "stdout",
     "output_type": "stream",
     "text": [
      "0  images has been preprocessed\n",
      "100  images has been preprocessed\n",
      "200  images has been preprocessed\n",
      "300  images has been preprocessed\n",
      "400  images has been preprocessed\n",
      "500  images has been preprocessed\n",
      "600  images has been preprocessed\n",
      "700  images has been preprocessed\n",
      "800  images has been preprocessed\n",
      "900  images has been preprocessed\n",
      "Shape of gradient images is  (1000, 256, 512)\n",
      "The shape of the training, validation and testing data is  (800, 108) (200, 108) (200, 108)\n",
      "It takes  16.398881673812866  seconds to initiate this model\n",
      "It takes  0.43433403968811035  seconds to train the model\n",
      "The accuracy of this prediction is  0.17375\n"
     ]
    }
   ],
   "source": [
    "model_SVM = Classifier_HOG_SVM(imgs=X, meta=y, num_train=800, num_val=200, pixel_per_cell=128)\n",
    "model_SVM.train()\n",
    "y_train_pred = model_SVM.predict(model_SVM.X_train)\n",
    "print(\"The accuracy of this prediction is \", np.sum(y_train_pred == model_SVM.y_train) / len(y_train_pred))"
   ]
  },
  {
   "cell_type": "code",
   "execution_count": 3,
   "metadata": {},
   "outputs": [
    {
     "name": "stderr",
     "output_type": "stream",
     "text": [
      "D:\\Anaconda501\\lib\\site-packages\\skimage\\feature\\_hog.py:119: skimage_deprecation: Default value of `block_norm`==`L1` is deprecated and will be changed to `L2-Hys` in v0.15\n",
      "  'be changed to `L2-Hys` in v0.15', skimage_deprecation)\n"
     ]
    },
    {
     "name": "stdout",
     "output_type": "stream",
     "text": [
      "0  images has been preprocessed\n",
      "100  images has been preprocessed\n",
      "200  images has been preprocessed\n",
      "300  images has been preprocessed\n",
      "400  images has been preprocessed\n",
      "500  images has been preprocessed\n",
      "600  images has been preprocessed\n",
      "700  images has been preprocessed\n",
      "800  images has been preprocessed\n",
      "900  images has been preprocessed\n",
      "Shape of gradient images is  (1000, 256, 512)\n",
      "The shape of the training, validation and testing data is  (800, 1512) (200, 1512) (200, 1512)\n",
      "It takes  26.406158924102783  seconds to initiate this model\n",
      "It takes  3.3234260082244873  seconds to train the model\n",
      "The accuracy of prediction on training set is  0.86625\n",
      "The accuracy of this prediction on validation data set is  0.895\n",
      "The accuracy of this prediction on test data set is  0.295\n"
     ]
    }
   ],
   "source": [
    "model_SVM = Classifier_HOG_SVM(imgs=X, meta=y, num_train=800, num_val=200, orientation=18, pixel_per_cell=64)\n",
    "model_SVM.train()\n",
    "y_train_pred = model_SVM.predict(model_SVM.X_train)\n",
    "print(\"The accuracy of prediction on training set is \", np.sum(y_train_pred == model_SVM.y_train) / len(y_train_pred))\n",
    "y_val_pred = model_SVM.predict(model_SVM.X_val)\n",
    "print(\"The accuracy of this prediction on validation data set is \", np.sum(y_val_pred == model_SVM.y_val) / len(y_val_pred))\n",
    "y_test_pred = model_SVM.predict(model_SVM.X_test)\n",
    "print(\"The accuracy of this prediction on test data set is \", np.sum(y_test_pred == model_SVM.y_test) / len(y_test_pred))"
   ]
  },
  {
   "cell_type": "code",
   "execution_count": 5,
   "metadata": {},
   "outputs": [
    {
     "name": "stderr",
     "output_type": "stream",
     "text": [
      "D:\\Projects\\OCR\\Shared_Tool\\Image_Load_IAM.py:29: ConversionWarning: Some errors were detected !\n",
      "    Line #23 (got 10 columns instead of 9)\n",
      "    Line #48 (got 10 columns instead of 9)\n",
      "    Line #75 (got 10 columns instead of 9)\n",
      "    Line #100 (got 10 columns instead of 9)\n",
      "    Line #118 (got 10 columns instead of 9)\n",
      "    Line #136 (got 10 columns instead of 9)\n",
      "    Line #199 (got 10 columns instead of 9)\n",
      "    Line #218 (got 10 columns instead of 9)\n",
      "    Line #279 (got 10 columns instead of 9)\n",
      "    Line #297 (got 10 columns instead of 9)\n",
      "    Line #365 (got 8 columns instead of 9)\n",
      "    Line #493 (got 8 columns instead of 9)\n",
      "    Line #1427 (got 10 columns instead of 9)\n",
      "    Line #1512 (got 10 columns instead of 9)\n",
      "    Line #1598 (got 10 columns instead of 9)\n",
      "    Line #1930 (got 8 columns instead of 9)\n",
      "    Line #2324 (got 8 columns instead of 9)\n",
      "    Line #2720 (got 8 columns instead of 9)\n",
      "    Line #3028 (got 8 columns instead of 9)\n",
      "    Line #3331 (got 10 columns instead of 9)\n",
      "    Line #3395 (got 10 columns instead of 9)\n",
      "    Line #4271 (got 8 columns instead of 9)\n",
      "    Line #4455 (got 10 columns instead of 9)\n",
      "    Line #4539 (got 10 columns instead of 9)\n",
      "    Line #7002 (got 8 columns instead of 9)\n",
      "    Line #7506 (got 8 columns instead of 9)\n",
      "    Line #8145 (got 8 columns instead of 9)\n",
      "    Line #9409 (got 8 columns instead of 9)\n",
      "    Line #11055 (got 8 columns instead of 9)\n",
      "    Line #11079 (got 8 columns instead of 9)\n",
      "    Line #11519 (got 8 columns instead of 9)\n",
      "    Line #12337 (got 8 columns instead of 9)\n",
      "    Line #12387 (got 8 columns instead of 9)\n",
      "    Line #12429 (got 8 columns instead of 9)\n",
      "    Line #12528 (got 8 columns instead of 9)\n",
      "    Line #13361 (got 8 columns instead of 9)\n",
      "    Line #13503 (got 8 columns instead of 9)\n",
      "    Line #13723 (got 8 columns instead of 9)\n",
      "    Line #13841 (got 8 columns instead of 9)\n",
      "    Line #14207 (got 8 columns instead of 9)\n",
      "    Line #14279 (got 8 columns instead of 9)\n",
      "    Line #15002 (got 8 columns instead of 9)\n",
      "    Line #15404 (got 8 columns instead of 9)\n",
      "    Line #16467 (got 8 columns instead of 9)\n",
      "    Line #17393 (got 8 columns instead of 9)\n",
      "    Line #17415 (got 8 columns instead of 9)\n",
      "    Line #17691 (got 8 columns instead of 9)\n",
      "    Line #19519 (got 8 columns instead of 9)\n",
      "    Line #19726 (got 8 columns instead of 9)\n",
      "    Line #19882 (got 8 columns instead of 9)\n",
      "    Line #20227 (got 8 columns instead of 9)\n",
      "    Line #21254 (got 8 columns instead of 9)\n",
      "    Line #21355 (got 8 columns instead of 9)\n",
      "    Line #21516 (got 8 columns instead of 9)\n",
      "    Line #21657 (got 8 columns instead of 9)\n",
      "    Line #28927 (got 11 columns instead of 9)\n",
      "    Line #29121 (got 11 columns instead of 9)\n",
      "    Line #29966 (got 11 columns instead of 9)\n",
      "    Line #30010 (got 10 columns instead of 9)\n",
      "    Line #30029 (got 11 columns instead of 9)\n",
      "    Line #30071 (got 11 columns instead of 9)\n",
      "    Line #30092 (got 11 columns instead of 9)\n",
      "    Line #30137 (got 11 columns instead of 9)\n",
      "    Line #30170 (got 11 columns instead of 9)\n",
      "    Line #30215 (got 11 columns instead of 9)\n",
      "    Line #30254 (got 10 columns instead of 9)\n",
      "    Line #30296 (got 11 columns instead of 9)\n",
      "    Line #30305 (got 10 columns instead of 9)\n",
      "    Line #30355 (got 10 columns instead of 9)\n",
      "    Line #30439 (got 10 columns instead of 9)\n",
      "    Line #30456 (got 11 columns instead of 9)\n",
      "    Line #30521 (got 11 columns instead of 9)\n",
      "    Line #30580 (got 10 columns instead of 9)\n",
      "    Line #31754 (got 8 columns instead of 9)\n",
      "    Line #44785 (got 8 columns instead of 9)\n",
      "    Line #45030 (got 8 columns instead of 9)\n",
      "    Line #45185 (got 8 columns instead of 9)\n",
      "    Line #45284 (got 8 columns instead of 9)\n",
      "    Line #50809 (got 8 columns instead of 9)\n",
      "    Line #52015 (got 8 columns instead of 9)\n",
      "    Line #52147 (got 8 columns instead of 9)\n",
      "    Line #57172 (got 8 columns instead of 9)\n",
      "    Line #59703 (got 8 columns instead of 9)\n",
      "    Line #60467 (got 8 columns instead of 9)\n",
      "    Line #61155 (got 8 columns instead of 9)\n",
      "    Line #61534 (got 8 columns instead of 9)\n",
      "    Line #66406 (got 8 columns instead of 9)\n",
      "    Line #67538 (got 8 columns instead of 9)\n",
      "    Line #67679 (got 8 columns instead of 9)\n",
      "    Line #69399 (got 8 columns instead of 9)\n",
      "    Line #70445 (got 8 columns instead of 9)\n",
      "    Line #70510 (got 8 columns instead of 9)\n",
      "    Line #70624 (got 8 columns instead of 9)\n",
      "    Line #70881 (got 8 columns instead of 9)\n",
      "    Line #72190 (got 11 columns instead of 9)\n",
      "    Line #75565 (got 8 columns instead of 9)\n",
      "    Line #75919 (got 8 columns instead of 9)\n",
      "    Line #76136 (got 8 columns instead of 9)\n",
      "    Line #76274 (got 8 columns instead of 9)\n",
      "    Line #76547 (got 8 columns instead of 9)\n",
      "    Line #77752 (got 8 columns instead of 9)\n",
      "    Line #77861 (got 8 columns instead of 9)\n",
      "    Line #78010 (got 8 columns instead of 9)\n",
      "    Line #78022 (got 8 columns instead of 9)\n",
      "    Line #78040 (got 8 columns instead of 9)\n",
      "    Line #78095 (got 8 columns instead of 9)\n",
      "    Line #78120 (got 8 columns instead of 9)\n",
      "    Line #78150 (got 8 columns instead of 9)\n",
      "    Line #78156 (got 8 columns instead of 9)\n",
      "    Line #90594 (got 8 columns instead of 9)\n",
      "    Line #90595 (got 8 columns instead of 9)\n",
      "    Line #110130 (got 8 columns instead of 9)\n",
      "    Line #110135 (got 8 columns instead of 9)\n",
      "    Line #114987 (got 8 columns instead of 9)\n",
      "    Line #115276 (got 8 columns instead of 9)\n",
      "  invalid_raise=False)\n"
     ]
    },
    {
     "name": "stdout",
     "output_type": "stream",
     "text": [
      "Data loaded and deleted data with 'err' flag, the size of valid data is  96365\n"
     ]
    },
    {
     "name": "stderr",
     "output_type": "stream",
     "text": [
      "D:\\Anaconda501\\lib\\site-packages\\skimage\\feature\\_hog.py:119: skimage_deprecation: Default value of `block_norm`==`L1` is deprecated and will be changed to `L2-Hys` in v0.15\n",
      "  'be changed to `L2-Hys` in v0.15', skimage_deprecation)\n"
     ]
    },
    {
     "name": "stdout",
     "output_type": "stream",
     "text": [
      "0  images has been preprocessed\n",
      "100  images has been preprocessed\n",
      "200  images has been preprocessed\n",
      "300  images has been preprocessed\n",
      "400  images has been preprocessed\n",
      "500  images has been preprocessed\n",
      "600  images has been preprocessed\n",
      "700  images has been preprocessed\n",
      "800  images has been preprocessed\n",
      "900  images has been preprocessed\n",
      "1000  images has been preprocessed\n",
      "1100  images has been preprocessed\n",
      "1200  images has been preprocessed\n",
      "1300  images has been preprocessed\n",
      "1400  images has been preprocessed\n",
      "1500  images has been preprocessed\n",
      "1600  images has been preprocessed\n",
      "1700  images has been preprocessed\n",
      "1800  images has been preprocessed\n",
      "1900  images has been preprocessed\n",
      "2000  images has been preprocessed\n",
      "2100  images has been preprocessed\n",
      "2200  images has been preprocessed\n",
      "2300  images has been preprocessed\n",
      "2400  images has been preprocessed\n",
      "2500  images has been preprocessed\n",
      "2600  images has been preprocessed\n",
      "2700  images has been preprocessed\n",
      "2800  images has been preprocessed\n",
      "2900  images has been preprocessed\n",
      "3000  images has been preprocessed\n",
      "3100  images has been preprocessed\n",
      "3200  images has been preprocessed\n",
      "3300  images has been preprocessed\n",
      "3400  images has been preprocessed\n",
      "3500  images has been preprocessed\n",
      "3600  images has been preprocessed\n",
      "3700  images has been preprocessed\n",
      "3800  images has been preprocessed\n",
      "3900  images has been preprocessed\n",
      "4000  images has been preprocessed\n",
      "4100  images has been preprocessed\n",
      "4200  images has been preprocessed\n",
      "4300  images has been preprocessed\n",
      "4400  images has been preprocessed\n",
      "4500  images has been preprocessed\n",
      "4600  images has been preprocessed\n",
      "4700  images has been preprocessed\n",
      "4800  images has been preprocessed\n",
      "4900  images has been preprocessed\n",
      "5000  images has been preprocessed\n",
      "5100  images has been preprocessed\n",
      "5200  images has been preprocessed\n",
      "5300  images has been preprocessed\n",
      "5400  images has been preprocessed\n",
      "5500  images has been preprocessed\n",
      "5600  images has been preprocessed\n",
      "5700  images has been preprocessed\n",
      "5800  images has been preprocessed\n",
      "5900  images has been preprocessed\n",
      "6000  images has been preprocessed\n",
      "6100  images has been preprocessed\n",
      "6200  images has been preprocessed\n",
      "6300  images has been preprocessed\n",
      "6400  images has been preprocessed\n",
      "6500  images has been preprocessed\n",
      "6600  images has been preprocessed\n",
      "6700  images has been preprocessed\n",
      "6800  images has been preprocessed\n",
      "6900  images has been preprocessed\n",
      "7000  images has been preprocessed\n",
      "7100  images has been preprocessed\n",
      "7200  images has been preprocessed\n",
      "7300  images has been preprocessed\n",
      "7400  images has been preprocessed\n",
      "7500  images has been preprocessed\n",
      "7600  images has been preprocessed\n",
      "7700  images has been preprocessed\n",
      "7800  images has been preprocessed\n",
      "7900  images has been preprocessed\n",
      "8000  images has been preprocessed\n",
      "8100  images has been preprocessed\n",
      "8200  images has been preprocessed\n",
      "8300  images has been preprocessed\n",
      "8400  images has been preprocessed\n",
      "8500  images has been preprocessed\n",
      "8600  images has been preprocessed\n",
      "8700  images has been preprocessed\n",
      "8800  images has been preprocessed\n",
      "8900  images has been preprocessed\n",
      "9000  images has been preprocessed\n",
      "9100  images has been preprocessed\n",
      "9200  images has been preprocessed\n",
      "9300  images has been preprocessed\n",
      "9400  images has been preprocessed\n",
      "9500  images has been preprocessed\n",
      "9600  images has been preprocessed\n",
      "9700  images has been preprocessed\n",
      "9800  images has been preprocessed\n",
      "9900  images has been preprocessed\n",
      "Shape of gradient images is  (10000, 256, 512)\n",
      "The shape of the training, validation and testing data is  (8000, 3780) (2000, 3780) (2000, 3780)\n",
      "It takes  411.18150901794434  seconds to initiate this model\n",
      "It takes  1178.949009180069  seconds to train the model\n",
      "The accuracy of prediction on training set is  0.999625\n",
      "The accuracy of this prediction on validation data set is  0.9995\n",
      "The accuracy of this prediction on test data set is  0.3945\n"
     ]
    }
   ],
   "source": [
    "num_img = 10000\n",
    "IAM_handler = IAM_Img_Handler()\n",
    "X, y = IAM_handler.load_imgs(num_img=num_img)\n",
    "model_SVM = Classifier_HOG_SVM(imgs=X, meta=y, num_train=8000, num_val=2000, orientation=9, pixel_per_cell=32)\n",
    "model_SVM.train(kernel=\"rbf\")\n",
    "y_train_pred = model_SVM.predict(model_SVM.X_train)\n",
    "print(\"The accuracy of prediction on training set is \", np.sum(y_train_pred == model_SVM.y_train) / len(y_train_pred))\n",
    "y_val_pred = model_SVM.predict(model_SVM.X_val)\n",
    "print(\"The accuracy of this prediction on validation data set is \", np.sum(y_val_pred == model_SVM.y_val) / len(y_val_pred))\n",
    "y_test_pred = model_SVM.predict(model_SVM.X_test)\n",
    "print(\"The accuracy of this prediction on test data set is \", np.sum(y_test_pred == model_SVM.y_test) / len(y_test_pred))"
   ]
  },
  {
   "cell_type": "code",
   "execution_count": null,
   "metadata": {
    "collapsed": true
   },
   "outputs": [],
   "source": []
  }
 ],
 "metadata": {
  "kernelspec": {
   "display_name": "Python 3",
   "language": "python",
   "name": "python3"
  },
  "language_info": {
   "codemirror_mode": {
    "name": "ipython",
    "version": 3
   },
   "file_extension": ".py",
   "mimetype": "text/x-python",
   "name": "python",
   "nbconvert_exporter": "python",
   "pygments_lexer": "ipython3",
   "version": "3.6.3"
  }
 },
 "nbformat": 4,
 "nbformat_minor": 1
}
