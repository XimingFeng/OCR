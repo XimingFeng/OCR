{
 "cells": [
  {
   "cell_type": "code",
   "execution_count": 2,
   "metadata": {},
   "outputs": [
    {
     "name": "stdout",
     "output_type": "stream",
     "text": [
      "Data loaded and deleted data with 'err' flag, the size of valid data is  96364\n",
      "Size of img list:  (10, 32, 128)\n"
     ]
    }
   ],
   "source": [
    "from Shared_Tool.Image_Load_IAM import IAM_Img_Handler\n",
    "import numpy as np\n",
    "from matplotlib import pyplot as plt\n",
    "num_img = 10\n",
    "IAM_handler = IAM_Img_Handler()\n",
    "X, y = IAM_handler.load_imgs(num_img=num_img)\n",
    "print(\"Size of img list: \", X.shape)"
   ]
  },
  {
   "cell_type": "code",
   "execution_count": 3,
   "metadata": {
    "scrolled": true
   },
   "outputs": [
    {
     "name": "stdout",
     "output_type": "stream",
     "text": [
      "The pre encoded output is:  [('c03-003d-04-01', 'ok', 159,  526, 1491,  85,  61, 'IN', 'to')\n",
      " ('c03-081c-04-03', 'ok', 185,  891, 1486, 117,  61, 'CC', 'but')\n",
      " ('b01-132-08-05', 'ok', 182, 1805, 2239,   8,   5, '.', '.')\n",
      " ('j04-015-06-03', 'ok', 170, 1179, 1798, 301,  97, 'NN', 'exchange')\n",
      " ('n01-000-03-05', 'ok', 190, 1122, 1302, 121,  58, 'CS', 'that')\n",
      " ('k04-106-00-06', 'ok', 189, 1446,  776, 237, 128, 'JJ', 'rattling')\n",
      " ('c04-061-04-07', 'ok', 165, 1499, 1546,   4,   6, '.', '.')\n",
      " ('n04-044-03-07', 'ok', 181, 1530, 1463, 100,  49, 'IN', 'on')\n",
      " ('a04-072-09-01', 'ok', 203,  905, 2395,  90, 172, 'INO', 'of')\n",
      " ('m04-138-04-06', 'ok', 173, 1924, 1486, 315,  70, 'VBN', 'roused')]\n",
      "The encoded output is:  [1, 2, 0, 3, 4, 5, 0, 6, 7, 8]\n"
     ]
    }
   ],
   "source": [
    "labels = [list(x)[8] for x in y]\n",
    "word_dict, reversed_word_dict = IAM_handler.encode_output(y=labels)\n",
    "print(\"The pre encoded output is: \", y)\n",
    "y = [word_dict[list(x)[8]] for x in y]\n",
    "print(\"The encoded output is: \", y)"
   ]
  },
  {
   "cell_type": "code",
   "execution_count": 4,
   "metadata": {},
   "outputs": [
    {
     "name": "stdout",
     "output_type": "stream",
     "text": [
      "exchange\n"
     ]
    },
    {
     "data": {
      "image/png": "[encoded data removed]",
      "text/plain": [
       "<Figure size 432x288 with 1 Axes>"
      ]
     },
     "metadata": {
      "needs_background": "light"
     },
     "output_type": "display_data"
    }
   ],
   "source": [
    "plt.imshow(X[3, :, :], 'gray')\n",
    "print(reversed_word_dict[y[3]])"
   ]
  },
  {
   "cell_type": "code",
   "execution_count": null,
   "metadata": {},
   "outputs": [],
   "source": []
  }
 ],
 "metadata": {
  "kernelspec": {
   "display_name": "Python 3",
   "language": "python",
   "name": "python3"
  },
  "language_info": {
   "codemirror_mode": {
    "name": "ipython",
    "version": 3
   },
   "file_extension": ".py",
   "mimetype": "text/x-python",
   "name": "python",
   "nbconvert_exporter": "python",
   "pygments_lexer": "ipython3",
   "version": "3.6.7"
  }
 },
 "nbformat": 4,
 "nbformat_minor": 2
}
